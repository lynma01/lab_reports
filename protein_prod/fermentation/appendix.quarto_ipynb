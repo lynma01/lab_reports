{
  "cells": [
    {
      "cell_type": "markdown",
      "metadata": {},
      "source": [
        "---\n",
        "title: appendix\n",
        "---\n",
        "\n",
        "\n",
        "# Appendix {.appendix}\n",
        "\n",
        "## Shake Flask Visualizations\n"
      ],
      "id": "9f6704c0"
    },
    {
      "cell_type": "code",
      "metadata": {
        "lst-caption": "Visualization code used to generate @fig-sf-od-comp"
      },
      "source": [
        "#| lst-label: lst-sf-od-comp\n",
        "\n",
        "import polars as pd\n",
        "import polars.selectors as cs\n",
        "import altair as alt\n",
        "\n",
        "ppi=200\n",
        "\n",
        "df = pd.read_excel('data/shakeflask.xlsx')\n",
        "width, height = 450, 250\n",
        "\n",
        "# Turbidity line chart\n",
        "chart_od = alt.Chart(df).mark_line(point=True).encode(\n",
        "      x=alt.X('Time', title='Time')\n",
        "    , y=alt.Y('OD600 Reading:Q', title='Turbidity (OD600)')\n",
        "    , color=('Growth Condition')\n",
        "    , tooltip=['OD600 Reading']\n",
        ").properties(\n",
        "      title='Turbidity (OD600) Over Time'\n",
        "    , width=width\n",
        "    , height=height)\n",
        "\n",
        "chart_od.save(\"images/chart_sf_od.png\", ppi=ppi)"
      ],
      "id": "f1c79510",
      "execution_count": null,
      "outputs": []
    },
    {
      "cell_type": "markdown",
      "metadata": {},
      "source": [
        "---\n"
      ],
      "id": "7e13c16c"
    },
    {
      "cell_type": "code",
      "metadata": {},
      "source": [
        "#| lst-label: lst-sf-ph-comp\n",
        "#| lst-cap: Visualization code for generating @fig-sf-ph-comp\n",
        "\n",
        "chart_ph = alt.Chart(df).mark_line(point=True).encode(\n",
        "      x=alt.X('Time', title='Time')\n",
        "    , y=alt.Y('pH:Q', title='pH').scale(zero=False)\n",
        "    , color=('Growth Condition')\n",
        "    , tooltip=['pH']\n",
        ").properties(\n",
        "      title='pH Over Time'\n",
        "    , width=width\n",
        "    , height=height)\n",
        "\n",
        "chart_ph.save(\"images/chart_sf_ph.png\", ppi=ppi)"
      ],
      "id": "861b217a",
      "execution_count": null,
      "outputs": []
    },
    {
      "cell_type": "markdown",
      "metadata": {},
      "source": [
        "---\n"
      ],
      "id": "62e5d31f"
    },
    {
      "cell_type": "code",
      "metadata": {
        "lst-caption": "Visualization code used to generate @fig-sf-carbon-comp"
      },
      "source": [
        "#| lst-label: lst-c-sf-carbon-comp\n",
        "\n",
        "df = pd.read_excel('data/shakeflask.xlsx')\n",
        "\n",
        "# Turbidity line chart\n",
        "chart_carbon = alt.Chart(df).mark_line(point=True).encode(\n",
        "      x=alt.X('Time', title='Time')\n",
        "    , y=alt.Y('Glucose:Q', title='Glucose (ng/dL)')\n",
        "    , color=('Growth Condition')\n",
        "    , tooltip=['Glucose']\n",
        ").properties(\n",
        "      title='Glucose (ng/dL) Over Time'\n",
        "    , width=width\n",
        "    , height=height)\n",
        "\n",
        "chart_carbon.save(\"images/chart_sf_gl.png\", ppi=ppi)"
      ],
      "id": "808f1613",
      "execution_count": null,
      "outputs": []
    },
    {
      "cell_type": "markdown",
      "metadata": {},
      "source": [
        "---\n"
      ],
      "id": "40a7b1a8"
    },
    {
      "cell_type": "code",
      "metadata": {
        "lst-caption": "Visualization code used to generate @fig-bt-ph"
      },
      "source": [
        "#| lst-label: lst-c-bt-pH\n",
        "\n",
        "df = pd.read_excel('data/benchtop.xlsx')\n",
        "df = df.select([\"Time\", \"pH (Benchtop)\", \"pH (Meter)\"])\n",
        "df = df.unpivot(cs.numeric(), index=\"Time\")\n",
        "\n",
        "# Turbidity line chart\n",
        "chart_bt_ph = alt.Chart(df).mark_line(point=True).encode(\n",
        "      x=alt.X('Time', title='Time')\n",
        "    , y=alt.Y('value:Q', title='pH Reading')\n",
        "    , color=\"variable\"\n",
        ").properties(\n",
        "      title='Comparison of pH Values by Source over Time'\n",
        "    , width=width\n",
        "    , height=height)\n",
        "\n",
        "chart_bt_ph.save(\"images/chart_bt_ph.png\", ppi=ppi)"
      ],
      "id": "4bc4fc98",
      "execution_count": null,
      "outputs": []
    },
    {
      "cell_type": "markdown",
      "metadata": {},
      "source": [
        "## Bioreactor Visualizations\n"
      ],
      "id": "8c9e6208"
    },
    {
      "cell_type": "code",
      "metadata": {
        "lst-caption": "Visualization code used to generate @fig-bt-od600"
      },
      "source": [
        "#| lst-label: lst-c-bt-od600\n",
        "\n",
        "df = pd.read_excel('data/benchtop.xlsx')\n",
        "\n",
        "# Turbidity line chart\n",
        "chart_bt_od600 = alt.Chart(df).mark_line(point=True).encode(\n",
        "      x=alt.X('Time', title='Time')\n",
        "    , y=alt.Y('OD600:Q', title='Turbidity (OD600)')\n",
        "    , tooltip=['OD600']\n",
        ").properties(\n",
        "      title='Turbidity (OD600) Values Over Time'\n",
        "    , width=width\n",
        "    , height=height)\n",
        "\n",
        "chart_bt_od600.save(\"images/chart_bt_od.png\", ppi=ppi)"
      ],
      "id": "8da6f959",
      "execution_count": null,
      "outputs": []
    },
    {
      "cell_type": "markdown",
      "metadata": {},
      "source": [
        "---\n"
      ],
      "id": "7706fc0b"
    },
    {
      "cell_type": "code",
      "metadata": {
        "lst-caption": "Visualization code used to generate @fig-bt-carbon"
      },
      "source": [
        "#| lst-label: lst-c-bt-carbon\n",
        "\n",
        "df = pd.read_excel('data/benchtop.xlsx')\n",
        "\n",
        "# Turbidity line chart\n",
        "chart_bt_carbon = alt.Chart(df).mark_line(point=True).encode(\n",
        "      x=alt.X('Time', title='Time')\n",
        "    , y=alt.Y('Carbon Source Reading:Q', title='Glucose ng/dL')\n",
        "    , tooltip=['Carbon Source Reading']\n",
        ").properties(\n",
        "      title='Glucose Concentration Values Over Time'\n",
        "    , width=width\n",
        "    , height=height)\n",
        "\n",
        "chart_bt_carbon.save(\"images/chart_bt_carbon.png\", ppi=ppi)\n",
        "chart_bt_carbon.display()"
      ],
      "id": "a7264b1e",
      "execution_count": null,
      "outputs": []
    },
    {
      "cell_type": "markdown",
      "metadata": {},
      "source": [
        "---\n"
      ],
      "id": "f2164e2e"
    },
    {
      "cell_type": "code",
      "metadata": {
        "lst-caption": "Visualization code used to generate @fig-bt-do"
      },
      "source": [
        "#| lst-label: lst-c-bt-rpm-do\n",
        "\n",
        "df = pd.read_excel('data/benchtop.xlsx')\n",
        "width, height = 200, 200\n",
        "\n",
        "# RPM line chart\n",
        "chart_bt_rpm = alt.Chart(df).mark_line(point=True).encode(\n",
        "      x=alt.X('Time', title='Time')\n",
        "    , y=alt.Y('RPM:Q', title='Bioreactor RPM')\n",
        ").properties(\n",
        "      title='Bioreactor RPM Over Time'\n",
        "    , width=width\n",
        "    , height=height)\n",
        "\n",
        "chart_bt_do = alt.Chart(df).mark_line(point=True).encode(\n",
        "      x=alt.X('Time', title='Time')\n",
        "    , y=alt.Y('Dissolved Oxygen', title='Dissolved Oxygen (DO) %')\n",
        ").properties(\n",
        "      title='Bioreactor DO Over Time'\n",
        "    , width=width\n",
        "    , height=height)\n",
        "\n",
        "final_chart = alt.hconcat(chart_bt_rpm, chart_bt_do)\n",
        "final_chart.save(\"images/chart_bt_do.png\", ppi=ppi)"
      ],
      "id": "cc3760d9",
      "execution_count": null,
      "outputs": []
    }
  ],
  "metadata": {
    "kernelspec": {
      "display_name": "Python 3",
      "language": "python",
      "name": "python3"
    }
  },
  "nbformat": 4,
  "nbformat_minor": 5
}